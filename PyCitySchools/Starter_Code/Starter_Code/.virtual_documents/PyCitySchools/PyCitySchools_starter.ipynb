


# Dependencies and Setup
import pandas as pd
from pathlib import Path

# File to Load (Remember to Change These)
school_data_to_load = Path("Resources/schools_complete.csv")
student_data_to_load = Path("Resources/students_complete.csv")

# Read School and Student Data File and store into Pandas DataFrames
school_data = pd.read_csv(school_data_to_load)
student_data = pd.read_csv(student_data_to_load)

# Combine the data into a single dataset.
school_data_complete = pd.merge(student_data, school_data, how="left", on="school_name")
school_data_complete.head()






# Calculate the total number of unique schools
school_count = len(school_data_complete["School ID"].unique())
school_count



# Calculate the total number of students
student_count = len(school_data_complete["Student ID"].unique())
student_count



# Calculate the total budget
total_budget = school_data["budget"].sum()
total_budget



# Calculate the average (mean) math score
average_math_score = student_data["math_score"].mean()
average_math_score



# Calculate the average (mean) reading score
average_reading_score = student_data["reading_score"].mean()
average_reading_score



# Use the following to calculate the percentage of students who passed math (math scores greather than or equal to 70)
passing_math_count = school_data_complete[(school_data_complete["math_score"] >= 70)].count()["student_name"]
passing_math_percentage = passing_math_count / float(student_count) * 100
passing_math_percentage



# Calculate the percentage of students who passed reading (hint: look at how the math percentage was calculated)
passing_reading_count = len(school_data_complete[school_data_complete["reading_score"] >= 70])
passing_reading_percentage = passing_reading_count / student_count * 100



# Use the following to calculate the percentage of students that passed math and reading
passing_math_reading_count = school_data_complete[
    (school_data_complete["math_score"] >= 70) & (school_data_complete["reading_score"] >= 70)
].count()["student_name"]
overall_passing_rate = passing_math_reading_count /  float(student_count) * 100
overall_passing_rate



# Create a high-level snapshot of the district's key metrics in a DataFrame
district_summary = pd.DataFrame ({"Total Schools" : [school_count], 
                                  "Total Students" : [student_count],
                                  "Total Budget" : [total_budget],
                                  "Average Math Score" : [average_math_score],
                                  "Average Reading Score" : [average_reading_score],
                                  "% Passing Math" : [passing_math_percentage],
                                  "% Passing Reading" : [passing_reading_percentage],
                                  "% Overall Passing" : [overall_passing_rate]})

# Copy the summary DataFrame to keep the original for any future use before applying formatting as it will change datatypes
district_summary_copy = district_summary.copy()

# Formatting
district_summary_copy["Total Students"] = district_summary_copy["Total Students"].map("{:,}".format)
district_summary_copy["Total Budget"] = district_summary_copy["Total Budget"].map("${:,.2f}".format)
district_summary_copy["Average Math Score"] = district_summary_copy["Average Math Score"].map("{:,.6f}".format)
district_summary_copy["Average Reading Score"] = district_summary_copy["Average Reading Score"].map("{:,.6f}".format)
district_summary_copy["% Passing Math"] = district_summary_copy["% Passing Math"].map("{:,.3f}%".format)
district_summary_copy["% Passing Reading"] = district_summary_copy["% Passing Reading"].map("{:,.3f}%".format)
district_summary_copy["% Overall Passing"] = district_summary_copy["% Overall Passing"].map("{:,.3f}%".format)

# Display the DataFrame
district_summary_copy





# Use the code provided to select the type per school from school_data
school_types = school_data_complete.set_index(["school_name"])["type"]
school_types.head()



# Calculate the total student count per school from school_data
# school_total_students = list(district_names.student_name.count())
per_school_counts = school_data.set_index(["school_name"])["size"] # school_data_complete["school_name"].value_counts()
per_school_counts.head(1000)


# Calculate the total school budget and per capita spending per school from school_data
school_summary = school_data_complete.groupby(['school_name'])
school_budget = list(school_summary.budget.mean())
school_per_student_budget = [i/j for i,j in zip(school_budget,school_total_students)]



# Calculate the average test scores per school from school_data_complete
school_avg_math_score = list(school_summary.math_score.mean())
school_avg_reading_score = list(school_summary.reading_score.mean())


# Calculate the number of students per school with math scores of 70 or higher from school_data_complete
school_summary = school_data_complete[school_data_complete['math_score'] >= 70].groupby(['school_name'])
school_pct_passing_math = [(i/j)*100 for i,j in zip(school_summary.math_score.count(),school_total_students)]



# Calculate the number of students per school with reading scores of 70 or higher from school_data_complete
school_summary = school_data_complete[school_data_complete['reading_score'] >= 70].groupby(['school_name'])
school_pct_passing_reading = [(i/j)*100 for i,j in zip(school_summary.reading_score.count(),school_total_students)]



# Use the provided code to calculate the number of students per school that passed both math and reading with scores of 70 or higher
students_passing_math_and_reading = school_data_complete[
    (school_data_complete["reading_score"] >= 70) & (school_data_complete["math_score"] >= 70)
]
school_students_passing_math_and_reading = students_passing_math_and_reading.groupby(["school_name"]).size()



# Use the provided code to calculate the passing rates
school_overall_passing = [(i+j)/2 for i,j in zip(school_pct_passing_math,school_pct_passing_reading)]



# Create a DataFrame called `per_school_summary` with columns for the calculations above.
school_summary = school_data_complete.groupby(['school_name'])
school_names = school_data_complete.school_name.sort_values().unique()
school_types = school_data.sort_values(by="school_name").type
school_total_students = list(school_summary.student_name.count())
school_budget = list(school_summary.budget.mean())
school_per_student_budget = [i/j for i,j in zip(school_budget,school_total_students)]
school_avg_math_score = list(school_summary.math_score.mean())
school_avg_reading_score = list(school_summary.reading_score.mean())

# Calculating passing percentages
school_summary = school_data_complete[school_data_complete['math_score'] >= 70].groupby(['school_name'])
school_pct_passing_math = [(i/j)*100 for i,j in zip(school_summary.math_score.count(),school_total_students)]
school_summary = school_data_complete[school_data_complete['reading_score'] >= 70].groupby(['school_name'])
school_pct_passing_reading = [(i/j)*100 for i,j in zip(school_summary.reading_score.count(),school_total_students)]
school_overall_passing = [(i+j)/2 for i,j in zip(school_pct_passing_math,school_pct_passing_reading)]

# Compile all calculations into dataframe
school_summary_df = pd.DataFrame({"School Names":school_names,
                                  "School Type":school_types,
                                  "Total Students":school_total_students,
                                  "Total School Budget":school_budget,
                                  "Per Student Budget":school_per_student_budget,
                                  "Average Math Score":school_avg_math_score,
                                  "Average Reading Score":school_avg_reading_score,
                                  "% Passing Math":school_pct_passing_math,
                                  "% Passing Reading":school_pct_passing_reading,
                                  "Overall Passing Rate":school_overall_passing})

school_summary_df = school_summary_df.reset_index(drop=True)
school_summary_df





# Sort the schools by `% Overall Passing` in descending order and display the top 5 rows.
top_schools = school_summary_df.sort_values(by='Overall Passing Rate', ascending=False).head(5).reset_index(drop=True)
top_schools.head(5)






# Sort the schools by `% Overall Passing` in ascending order and display the top 5 rows.
bottom_schools = school_summary_df.sort_values(by='Overall Passing Rate', ascending=True).head(5).reset_index(drop=True)
bottom_schools.head(5)






# Average math score by grade
def average_math_by_grade(grade):
    school_summary = school_data_complete.loc[school_data_complete.grade == grade].groupby(['school_name'])
    school_names = school_data_complete.school_name.sort_values().unique()
    school_avg_math_score = list(school_summary.math_score.mean())

    # Compile all calculations into dataframe
    average_math_df = pd.DataFrame({"School Names":school_names,
                                    f"{grade} Avg Math Score":school_avg_math_score})

    average_math_df = average_math_df.reset_index(drop=True)
    return average_math_df

# Function to create series for average reading score by grade
def average_reading_by_grade(grade):
    school_summary = school_data_complete.loc[school_data_complete.grade == grade].groupby(['school_name'])
    school_names = school_data_complete.school_name.sort_values().unique()
    school_avg_reading_score = list(school_summary.reading_score.mean())

    # Compile all calculations into dataframe
    average_reading_df = pd.DataFrame({"School Names":school_names,
                                    f"{grade} Avg Reading Score":school_avg_reading_score})

    average_reading_df = average_reading_df.reset_index(drop=True)
    return average_reading_df

# Grade and group by school
grade_9 = average_math_by_grade('9th')
grade_10 = average_math_by_grade('10th')
grade_11 = average_math_by_grade('11th')
grade_12 = average_math_by_grade('12th')
avg_math_score_by_grade = pd.merge(grade_9,grade_10,how='inner',suffixes=('',''))
avg_math_score_by_grade = pd.merge(avg_math_score_by_grade,grade_11,how='inner',suffixes=('',''))
avg_math_score_by_grade = pd.merge(avg_math_score_by_grade,grade_12,how='inner',suffixes=('',''))
avg_math_score_by_grade






# Grade and group by school
grade_9 = average_reading_by_grade('9th')
grade_10 = average_reading_by_grade('10th')
grade_11 = average_reading_by_grade('11th')
grade_12 = average_reading_by_grade('12th')
avg_reading_score_by_grade = pd.merge(grade_9,grade_10,how='inner',suffixes=('',''))
avg_reading_score_by_grade = pd.merge(avg_reading_score_by_grade,grade_11,how='inner',suffixes=('',''))
avg_reading_score_by_grade = pd.merge(avg_reading_score_by_grade,grade_12,how='inner',suffixes=('',''))
avg_reading_score_by_grade






# Establish the bins
spending_bins = [0, 585, 630, 645, 680]
group_names = ["<$585", "$585-630", "$630-645", "$645-680"]

# Categorize spending based on the bins.
school_summary_df["Spending Summary"] = pd.cut(school_summary_df["Per Student Budget"], spending_bins, labels=group_names)

school_summary_df.mean()


# Create a copy of the school summary for later aggregations
school_spending_df = per_school_summary.copy()



# Use `pd.cut` on the per_school_capita Series from earlier to categorize per student spending based on the bins.
school_spending_df["Spending Ranges (Per Student)"] =

# Convert Spending Ranges (Per Student) to a string
school_spending_df["Spending Ranges (Per Student)"] = school_spending_df["Spending Ranges (Per Student)"].astype(str)
school_spending_df



#  Calculate averages for the desired columns.
spending_math_scores = school_spending_df.groupby(["Spending Ranges (Per Student)"])["Average Math Score"].mean()
spending_reading_scores = school_spending_df.groupby(["Spending Ranges (Per Student)"])["Average Reading Score"].mean()
spending_passing_math = school_spending_df.groupby(["Spending Ranges (Per Student)"])["% Passing Math"].mean()
spending_passing_reading = school_spending_df.groupby(["Spending Ranges (Per Student)"])["% Passing Reading"].mean()
overall_passing_spending = school_spending_df.groupby(["Spending Ranges (Per Student)"])["% Overall Passing"].mean()



# Assemble into DataFrame
spending_summary =

# Display results
spending_summary






# Establish the bins.
size_bins = [0, 1000, 2000, 5000]
group_names = ["Small (<1000)", "Medium (1000-2000)", "Large (2000-5000)"]

# Categorize spending based on the bins.
school_summary_df["School Size"] = pd.cut(school_summary_df["Total Students"], size_bins, labels=group_names)

school_summary_df.head()


# Create a copy of the school summary for later aggregations
school_size_df = school_summary_df.copy()


# Use `pd.cut` on the per_school_counts Series from earlier to categorize school size based on the bins.
school_size_df["School Size"] = pd.DataFrame({
    "Average Math Score":school_avg_math_score,
    "Average Reading Score":school_avg_reading_score,
    "% Passing Math":school_pct_passing_math,
    "% Passing Reading":school_pct_passing_reading,
    "% Overall Passing Rate":school_overall_passing})

# Convert School Size to a string
school_size_df["School Size"] = school_size_df["School Size"].astype(str)
school_size_df



# Calculate averages for the desired columns.
size_math_scores = school_size_df.groupby(["School Size"])["Average Math Score"].mean()
size_reading_scores = school_size_df.groupby(["School Size"])["Average Reading Score"].mean()
size_passing_math = school_size_df.groupby(["School Size"])["% Passing Math"].mean()
size_passing_reading = school_size_df.groupby(["School Size"])["% Passing Reading"].mean()
size_overall_passing = school_size_df.groupby(["School Size"])["% Overall Passing Rate"].mean()



# Create a DataFrame called `size_summary` that breaks down school performance based on school size (small, medium, or large).
# Use the scores above to create a new DataFrame called `size_summary`
size_summary = pd.DataFrame({
    "Average Math Score":school_avg_math_score,
    "Average Reading Score":school_avg_reading_score,
    "% Passing Math":school_pct_passing_math,
    "% Passing Reading":school_pct_passing_reading,
    "Overall Passing Rate":school_overall_passing})

# Display results
size_summary






# Group the per_school_summary DataFrame by "School Type" and average the results.
average_math_score_by_type = per_school_summary.groupby(["School Type"])["Average Math Score"].mean()
average_reading_score_by_type = per_school_summary.groupby(["School Type"])["Average Reading Score"].mean()
average_percent_passing_math_by_type = per_school_summary.groupby(["School Type"])["% Passing Math"].mean()
average_percent_passing_reading_by_type = per_school_summary.groupby(["School Type"])["% Passing Reading"].mean()
average_percent_overall_passing_by_type = per_school_summary.groupby(["School Type"])["% Overall Passing"].mean()



# Assemble the new data by type into a DataFrame called `type_summary`
type_summary_df = pd.DataFrame({
          "Average Math Score" : type_math_scores,
          "Average Reading Score": type_reading_scores,
          "% Passing Math": type_passing_math,
          "% Passing Reading": type_passing_reading,
          "% Overall Passing": type_overall_passing})

# Display results
type_summary_df




